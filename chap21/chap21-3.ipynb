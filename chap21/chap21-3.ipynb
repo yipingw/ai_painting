{
 "cells": [
  {
   "cell_type": "code",
   "execution_count": 1,
   "metadata": {},
   "outputs": [
    {
     "name": "stdout",
     "output_type": "stream",
     "text": [
      "Tue Jan  9 20:50:12 2024       \n",
      "+---------------------------------------------------------------------------------------+\n",
      "| NVIDIA-SMI 545.36                 Driver Version: 546.33       CUDA Version: 12.3     |\n",
      "|-----------------------------------------+----------------------+----------------------+\n",
      "| GPU  Name                 Persistence-M | Bus-Id        Disp.A | Volatile Uncorr. ECC |\n",
      "| Fan  Temp   Perf          Pwr:Usage/Cap |         Memory-Usage | GPU-Util  Compute M. |\n",
      "|                                         |                      |               MIG M. |\n",
      "|=========================================+======================+======================|\n",
      "|   0  NVIDIA GeForce RTX 2070 ...    On  | 00000000:01:00.0  On |                  N/A |\n",
      "| N/A   50C    P8              17W /  80W |   3063MiB /  8192MiB |     30%      Default |\n",
      "|                                         |                      |                  N/A |\n",
      "+-----------------------------------------+----------------------+----------------------+\n",
      "                                                                                         \n",
      "+---------------------------------------------------------------------------------------+\n",
      "| Processes:                                                                            |\n",
      "|  GPU   GI   CI        PID   Type   Process name                            GPU Memory |\n",
      "|        ID   ID                                                             Usage      |\n",
      "|=======================================================================================|\n",
      "|  No running processes found                                                           |\n",
      "+---------------------------------------------------------------------------------------+\n"
     ]
    }
   ],
   "source": [
    "!nvidia-smi"
   ]
  },
  {
   "cell_type": "code",
   "execution_count": null,
   "metadata": {},
   "outputs": [],
   "source": [
    "!pip install -qq diffusers transformers xformers"
   ]
  },
  {
   "cell_type": "code",
   "execution_count": null,
   "metadata": {},
   "outputs": [],
   "source": [
    "!pip install -qq opencv-contrib-python\n",
    "!pip install -qq controlnet_aux"
   ]
  },
  {
   "cell_type": "markdown",
   "metadata": {},
   "source": [
    "# Load QR Code ControlNet"
   ]
  },
  {
   "cell_type": "code",
   "execution_count": null,
   "metadata": {},
   "outputs": [],
   "source": [
    "from diffusers import ControlNetModel, StableDiffusionControlNetPipeline\n",
    "\n",
    "# Load the QR code to generate the corresponding ControlNet model\n",
    "controlnet = ControlNetModel.from_pretrained(\"Nacholmo/controlnet-qr-pattern-v2\")\n",
    "pipeline = StableDiffusionControlNetPipeline.from_pretrained(\n",
    "\t\"runwayml/stable-diffusion-v1-5\", controlnet=controlnet\n",
    ")"
   ]
  },
  {
   "cell_type": "code",
   "execution_count": null,
   "metadata": {},
   "outputs": [],
   "source": [
    "import torch\n",
    "from PIL import Image\n",
    "from diffusers import DDIMScheduler\n",
    "from diffusers.utils import load_image\n",
    "\n",
    "pipeline.enable_xformers_memory_efficient_attention()\n",
    "pipeline.scheduler = DDIMScheduler.from_config(pipeline.scheduler.config)\n",
    "pipeline.enable_model_cpu_offload()\n",
    "\n",
    "# Scale the image\n",
    "def resize_for_condition_image(input_image: Image, resolution: int):\n",
    "    input_image = input_image.convert(\"RGB\")\n",
    "    W, H = input_image.size\n",
    "    k = float(resolution) / min(H, W)\n",
    "    H *= k\n",
    "    W *= k\n",
    "    H = int(round(H / 64.0)) * 64\n",
    "    W = int(round(W / 64.0)) * 64\n",
    "    img = input_image.resize((W, H), resample=Image.LANCZOS)\n",
    "    return img"
   ]
  },
  {
   "cell_type": "code",
   "execution_count": null,
   "metadata": {},
   "outputs": [],
   "source": [
    "# Process the original QR code image, you can use your QR code link, or upload the local QR code image to Colab\n",
    "init_image = load_image(\"https://media.discordapp.net/attachments/1092064974794391644/1194270793937457222/ninja_geek_qr_code_style_one.png?ex=65afbe59&is=659d4959&hm=2379cc23f4aabe15e2555c87aa43956b908a2723af60ba76d86999039e2b46d0&=&format=webp&quality=lossless&width=1005&height=1005\")\n",
    "init_image = resize_for_condition_image(init_image, 768)\n",
    "generator = torch.manual_seed(1025)\n",
    "init_image"
   ]
  },
  {
   "cell_type": "code",
   "execution_count": null,
   "metadata": {},
   "outputs": [],
   "source": [
    "# You can replace it with your prompt\n",
    "prompt = [\"robot costume, best quality, extremely detailed\", \"masterpiece, forest, jungle, trees, mist, fog, water, river, vines, photorealistic\"]\n",
    "\n",
    "generator = torch.Generator(\"cuda\").manual_seed(1025)\n",
    "\n",
    "# Generate QR code\n",
    "output = pipeline(\n",
    "    prompt,\n",
    "    init_image,\n",
    "    negative_prompt=[\"ugly, disfigured, low quality, blurry, nsfw\"] * len(prompt),\n",
    "    generator=generator,\n",
    "    num_inference_steps=20,\n",
    ")\n"
   ]
  },
  {
   "cell_type": "code",
   "execution_count": null,
   "metadata": {},
   "outputs": [],
   "source": [
    "# Used to display image\n",
    "def image_grid(imgs, rows, cols):\n",
    "    assert len(imgs) == rows * cols\n",
    "\n",
    "    w, h = imgs[0].size\n",
    "    grid = Image.new(\"RGB\", size=(cols * w, rows * h))\n",
    "    grid_w, grid_h = grid.size\n",
    "\n",
    "    for i, img in enumerate(imgs):\n",
    "        grid.paste(img, box=(i % cols * w, i // cols * h))\n",
    "    return grid\n",
    "\n",
    "image_grid(output.images, 1, 2)"
   ]
  },
  {
   "cell_type": "markdown",
   "metadata": {},
   "source": [
    "# Let's test other prompts"
   ]
  },
  {
   "cell_type": "code",
   "execution_count": null,
   "metadata": {},
   "outputs": [],
   "source": [
    "# You can replace it with your prompt\n",
    "prompt = [\"sea wave, best quality, extremely detailed\", \"masterpiece, best quality, everyday life in the cloud kingdom\"]\n",
    "\n",
    "generator = torch.Generator(\"cuda\").manual_seed(1025)\n",
    "\n",
    "# Generate QR code\n",
    "output = pipeline(\n",
    "    prompt,\n",
    "    init_image,\n",
    "    negative_prompt=[\"ugly, disfigured, low quality, blurry, nsfw\"] * len(prompt),\n",
    "    generator=generator,\n",
    "    num_inference_steps=20,\n",
    "    guidance_scale = 5.0,\n",
    ")"
   ]
  },
  {
   "cell_type": "code",
   "execution_count": null,
   "metadata": {},
   "outputs": [],
   "source": [
    "# Used to display image\n",
    "def image_grid(imgs, rows, cols):\n",
    "    assert len(imgs) == rows * cols\n",
    "\n",
    "    w, h = imgs[0].size\n",
    "    grid = Image.new(\"RGB\", size=(cols * w, rows * h))\n",
    "    grid_w, grid_h = grid.size\n",
    "\n",
    "    for i, img in enumerate(imgs):\n",
    "        grid.paste(img, box=(i % cols * w, i // cols * h))\n",
    "    return grid\n",
    "\n",
    "image_grid(output.images, 1, 2)"
   ]
  },
  {
   "cell_type": "code",
   "execution_count": null,
   "metadata": {},
   "outputs": [],
   "source": [
    "pipeline"
   ]
  }
 ],
 "metadata": {
  "kernelspec": {
   "display_name": "ai_painting",
   "language": "python",
   "name": "python3"
  },
  "language_info": {
   "codemirror_mode": {
    "name": "ipython",
    "version": 3
   },
   "file_extension": ".py",
   "mimetype": "text/x-python",
   "name": "python",
   "nbconvert_exporter": "python",
   "pygments_lexer": "ipython3",
   "version": "3.10.13"
  }
 },
 "nbformat": 4,
 "nbformat_minor": 2
}
