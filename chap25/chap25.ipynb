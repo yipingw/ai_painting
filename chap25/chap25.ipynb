{
 "cells": [
  {
   "cell_type": "code",
   "execution_count": null,
   "metadata": {},
   "outputs": [],
   "source": [
    "!nvidia-smi"
   ]
  },
  {
   "cell_type": "code",
   "execution_count": null,
   "metadata": {},
   "outputs": [],
   "source": [
    "!pip install diffusers transformers accelerate torch -qq"
   ]
  },
  {
   "cell_type": "code",
   "execution_count": null,
   "metadata": {},
   "outputs": [],
   "source": [
    "import torch\n",
    "from diffusers import DiffusionPipeline, DPMSolverMultistepScheduler\n",
    "from diffusers.utils import export_to_video\n",
    "\n",
    "# Loading model files\n",
    "pipe = DiffusionPipeline.from_pretrained(\"cerspense/zeroscope_v2_576w\", torch_dtype=torch.float16)\n",
    "pipe.scheduler = DPMSolverMultistepScheduler.from_config(pipe.scheduler.config)\n",
    "pipe.enable_model_cpu_offload()"
   ]
  },
  {
   "cell_type": "code",
   "execution_count": null,
   "metadata": {},
   "outputs": [],
   "source": [
    "# Video creation using prompts\n",
    "prompt = \"Darth Vader is surfing on waves\"\n",
    "video_frames = pipe(prompt, num_inference_steps=40, height=320, width=576, num_frames=24).frames\n",
    "video_path = export_to_video(video_frames, output_video_path=\"video1.mp4\")"
   ]
  },
  {
   "cell_type": "code",
   "execution_count": null,
   "metadata": {},
   "outputs": [],
   "source": [
    "prompt = \"A dog wearing a superhero cape flying through the sky\"\n",
    "video_frames = pipe(prompt, num_inference_steps=40, height=320, width=576, num_frames=24).frames\n",
    "video_path = export_to_video(video_frames, output_video_path=\"video2.mp4\")"
   ]
  },
  {
   "cell_type": "code",
   "execution_count": null,
   "metadata": {},
   "outputs": [],
   "source": [
    "prompt = \"A spaceship landing on Mars\"\n",
    "video_frames = pipe(prompt, num_inference_steps=40, height=320, width=576, num_frames=24).frames\n",
    "video_path = export_to_video(video_frames, output_video_path=\"video3.mp4\")"
   ]
  },
  {
   "cell_type": "code",
   "execution_count": null,
   "metadata": {},
   "outputs": [],
   "source": [
    "prompt = \"A horse drinking water\"\n",
    "video_frames = pipe(prompt, num_inference_steps=40, height=320, width=576, num_frames=24).frames\n",
    "video_path = export_to_video(video_frames, output_video_path=\"video4.mp4\")"
   ]
  },
  {
   "cell_type": "code",
   "execution_count": null,
   "metadata": {},
   "outputs": [],
   "source": [
    "# mp4 file to GIF, for easier viewing\n",
    "from moviepy.editor import VideoFileClip\n",
    "\n",
    "def convert_mp4_to_gif(input_file, output_file, start_time, end_time):\n",
    "    \"\"\"\n",
    "    Convert mp4 video to gif.\n",
    "\n",
    "    Parameters:\n",
    "    input_file (str): The path of the input video file.\n",
    "    output_file (str): The path of the output gif file.\n",
    "    start_time (int): The start time (in seconds) for gif.\n",
    "    end_time (int): The end time (in seconds) for gif.\n",
    "\n",
    "    Returns:\n",
    "    None\n",
    "    \"\"\"\n",
    "    clip = VideoFileClip(input_file).subclip(start_time, end_time)\n",
    "    clip.write_gif(output_file, fps=10)\n",
    "\n",
    "# Use function, specify original file, target output, start and end times for converting original video to GIF\n",
    "convert_mp4_to_gif(\"video1.mp4\", \"output1.gif\", 0, 3)\n",
    "convert_mp4_to_gif(\"video2.mp4\", \"output2.gif\", 0, 3)\n",
    "convert_mp4_to_gif(\"video3.mp4\", \"output3.gif\", 0, 3)\n",
    "convert_mp4_to_gif(\"video4.mp4\", \"output4.gif\", 0, 3)"
   ]
  },
  {
   "cell_type": "code",
   "execution_count": null,
   "metadata": {},
   "outputs": [],
   "source": [
    "from IPython.display import Image\n",
    "Image(filename=\"output1.gif\")"
   ]
  },
  {
   "cell_type": "code",
   "execution_count": null,
   "metadata": {},
   "outputs": [],
   "source": [
    "Image(filename=\"output2.gif\")"
   ]
  },
  {
   "cell_type": "code",
   "execution_count": null,
   "metadata": {},
   "outputs": [],
   "source": [
    "Image(filename=\"output3.gif\")"
   ]
  },
  {
   "cell_type": "code",
   "execution_count": null,
   "metadata": {},
   "outputs": [],
   "source": [
    "Image(filename=\"output4.gif\")"
   ]
  }
 ],
 "metadata": {
  "kernelspec": {
   "display_name": "ai_painting",
   "language": "python",
   "name": "python3"
  },
  "language_info": {
   "name": "python",
   "version": "3.10.13"
  }
 },
 "nbformat": 4,
 "nbformat_minor": 2
}
